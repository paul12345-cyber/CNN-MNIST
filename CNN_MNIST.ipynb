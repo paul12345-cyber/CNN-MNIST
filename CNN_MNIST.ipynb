{
 "cells": [
  {
   "cell_type": "code",
   "execution_count": 28,
   "id": "9a99a1ac",
   "metadata": {},
   "outputs": [],
   "source": [
    "import numpy as np\n",
    "from keras.datasets import mnist\n",
    "from keras.models import Sequential\n",
    "from keras.layers import Dense\n",
    "from keras.layers import Dropout\n",
    "from keras.layers import Flatten\n",
    "from keras.layers import Conv2D\n",
    "from keras.layers import MaxPooling2D\n",
    "from keras.utils import np_utils\n",
    "from keras.optimizers import SGD\n",
    "from keras.preprocessing.image import array_to_img\n",
    "from keras.preprocessing.image import load_img\n",
    "from keras.preprocessing.image import img_to_array\n",
    "import matplotlib.pyplot as plt\n",
    "%matplotlib inline\n",
    "\n",
    "# load the MNIST dataset using the Keras helper function.\n",
    "(X_train, y_train), (X_test, y_test) = mnist.load_data()"
   ]
  },
  {
   "cell_type": "code",
   "execution_count": 29,
   "id": "e60d57d8",
   "metadata": {},
   "outputs": [
    {
     "name": "stdout",
     "output_type": "stream",
     "text": [
      "(60000, 28, 28) (10000, 28, 28)\n",
      "[[  0   0   0   0   0   0   0   0   0   0   0   0   0   0   0   0   0   0   0   0   0   0   0   0   0   0   0   0]\n",
      " [  0   0   0   0   0   0   0   0   0   0   0   0   0   0   0   0   0   0   0   0   0   0   0   0   0   0   0   0]\n",
      " [  0   0   0   0   0   0   0   0   0   0   0   0   0   0   0   0   0   0   0   0   0   0   0   0   0   0   0   0]\n",
      " [  0   0   0   0   0   0   0   0   0   0   0   0   0   0   0   0   0   0   0   0   0   0   0   0   0   0   0   0]\n",
      " [  0   0   0   0   0   0   0   0   0   0   0   0   0   0   0   0   0   0   0   0   0   0   0   0   0   0   0   0]\n",
      " [  0   0   0   0   0   0   0   0   0   0   0   0   0   0   0   0   0   0 124 253 255  63   0   0   0   0   0   0]\n",
      " [  0   0   0   0   0   0   0   0   0   0   0   0   0   0   0   0   0  96 244 251 253  62   0   0   0   0   0   0]\n",
      " [  0   0   0   0   0   0   0   0   0   0   0   0   0   0   0   0   0 127 251 251 253  62   0   0   0   0   0   0]\n",
      " [  0   0   0   0   0   0   0   0   0   0   0   0   0   0   0   0  68 236 251 211  31   8   0   0   0   0   0   0]\n",
      " [  0   0   0   0   0   0   0   0   0   0   0   0   0   0   0  60 228 251 251  94   0   0   0   0   0   0   0   0]\n",
      " [  0   0   0   0   0   0   0   0   0   0   0   0   0   0   0 155 253 253 189   0   0   0   0   0   0   0   0   0]\n",
      " [  0   0   0   0   0   0   0   0   0   0   0   0   0   0  20 253 251 235  66   0   0   0   0   0   0   0   0   0]\n",
      " [  0   0   0   0   0   0   0   0   0   0   0   0   0  32 205 253 251 126   0   0   0   0   0   0   0   0   0   0]\n",
      " [  0   0   0   0   0   0   0   0   0   0   0   0   0 104 251 253 184  15   0   0   0   0   0   0   0   0   0   0]\n",
      " [  0   0   0   0   0   0   0   0   0   0   0   0  80 240 251 193  23   0   0   0   0   0   0   0   0   0   0   0]\n",
      " [  0   0   0   0   0   0   0   0   0   0   0  32 253 253 253 159   0   0   0   0   0   0   0   0   0   0   0   0]\n",
      " [  0   0   0   0   0   0   0   0   0   0   0 151 251 251 251  39   0   0   0   0   0   0   0   0   0   0   0   0]\n",
      " [  0   0   0   0   0   0   0   0   0   0  48 221 251 251 172   0   0   0   0   0   0   0   0   0   0   0   0   0]\n",
      " [  0   0   0   0   0   0   0   0   0   0 234 251 251 196  12   0   0   0   0   0   0   0   0   0   0   0   0   0]\n",
      " [  0   0   0   0   0   0   0   0   0   0 253 251 251  89   0   0   0   0   0   0   0   0   0   0   0   0   0   0]\n",
      " [  0   0   0   0   0   0   0   0   0 159 255 253 253  31   0   0   0   0   0   0   0   0   0   0   0   0   0   0]\n",
      " [  0   0   0   0   0   0   0   0  48 228 253 247 140   8   0   0   0   0   0   0   0   0   0   0   0   0   0   0]\n",
      " [  0   0   0   0   0   0   0   0  64 251 253 220   0   0   0   0   0   0   0   0   0   0   0   0   0   0   0   0]\n",
      " [  0   0   0   0   0   0   0   0  64 251 253 220   0   0   0   0   0   0   0   0   0   0   0   0   0   0   0   0]\n",
      " [  0   0   0   0   0   0   0   0  24 193 253 220   0   0   0   0   0   0   0   0   0   0   0   0   0   0   0   0]\n",
      " [  0   0   0   0   0   0   0   0   0   0   0   0   0   0   0   0   0   0   0   0   0   0   0   0   0   0   0   0]\n",
      " [  0   0   0   0   0   0   0   0   0   0   0   0   0   0   0   0   0   0   0   0   0   0   0   0   0   0   0   0]\n",
      " [  0   0   0   0   0   0   0   0   0   0   0   0   0   0   0   0   0   0   0   0   0   0   0   0   0   0   0   0]]\n"
     ]
    },
    {
     "data": {
      "image/png": "[encoded data removed]",
      "text/plain": [
       "<Figure size 432x288 with 1 Axes>"
      ]
     },
     "metadata": {
      "needs_background": "light"
     },
     "output_type": "display_data"
    }
   ],
   "source": [
    "print(X_train.shape, X_test.shape)\n",
    "np.set_printoptions(threshold=np.inf, linewidth=300)\n",
    "print(X_train[3])      # sample 3.\n",
    "\n",
    "plt.imshow(X_train[3],cmap=\"gray\")\n",
    "plt.show()"
   ]
  },
  {
   "cell_type": "code",
   "execution_count": 30,
   "id": "7c864266",
   "metadata": {},
   "outputs": [],
   "source": [
    "# Reshape dataset to reflect a single channel.\n",
    "X_train=X_train.reshape(X_train.shape[0],28,28,1).astype(\"float32\")  # No. of samples, row, column, channel\n",
    "X_test=X_test.reshape(X_test.shape[0],28,28,1).astype(\"float32\")\n",
    "\n",
    "# Rescale pixel values from [0-255] to [0-1] \n",
    "X_train,X_test= X_train/255, X_test/255"
   ]
  },
  {
   "cell_type": "code",
   "execution_count": 31,
   "id": "e5a8d161",
   "metadata": {},
   "outputs": [
    {
     "name": "stdout",
     "output_type": "stream",
     "text": [
      "(60000, 10) (10000, 10)\n"
     ]
    }
   ],
   "source": [
    "# one hot encode categorical labels\n",
    "y_train = np_utils.to_categorical(y_train)\n",
    "y_test = np_utils.to_categorical(y_test)\n",
    "print(y_train.shape, y_test.shape)"
   ]
  },
  {
   "cell_type": "markdown",
   "id": "5451091b",
   "metadata": {},
   "source": [
    "### CNN structure \n",
    "#### Input layer (1x28x28) -> Conv Layer (32 filters, 5x5) -> Max Pooling (2x2) -> Dropout layer (20%) -> Flatten layer -> Fully connected layer (128 neurons) -> Output layer (10 neurons)"
   ]
  },
  {
   "cell_type": "code",
   "execution_count": 32,
   "id": "80c8a97e",
   "metadata": {},
   "outputs": [],
   "source": [
    "# CNN and fully connected model\n",
    "def cnn_dense_model():\n",
    "    model = Sequential()\n",
    "    model.add(Conv2D(32, (3, 3), activation='relu', input_shape=(28, 28, 1)))  # Convolutional layer with 32 filters of size 3x3\n",
    "    model.add(MaxPooling2D((2, 2)))\n",
    "    model.add(Dropout(0.2))     # regularization by dropout \n",
    "    model.add(Flatten())\n",
    "    model.add(Dense(128, activation='relu'))\n",
    "    model.add(Dense(10, activation='softmax'))\n",
    "    # compile model\n",
    "    opt = SGD(lr=0.01, momentum=0.9)\n",
    "    model.compile(optimizer=opt, loss='categorical_crossentropy', metrics=['accuracy'])\n",
    "    return model"
   ]
  },
  {
   "cell_type": "markdown",
   "id": "cec8ebdb",
   "metadata": {},
   "source": [
    "### Training and evaluation of model"
   ]
  },
  {
   "cell_type": "code",
   "execution_count": 33,
   "id": "058b2c1a",
   "metadata": {},
   "outputs": [
    {
     "name": "stderr",
     "output_type": "stream",
     "text": [
      "C:\\Users\\paul\\anaconda3\\envs\\py368\\lib\\site-packages\\ipykernel_launcher.py:2: UserWarning: The `nb_epoch` argument in `fit` has been renamed `epochs`.\n",
      "  \n"
     ]
    },
    {
     "name": "stdout",
     "output_type": "stream",
     "text": [
      "Train on 60000 samples, validate on 10000 samples\n",
      "Epoch 1/5\n",
      "60000/60000 [==============================] - 78s 1ms/step - loss: 0.3727 - accuracy: 0.8896 - val_loss: 0.1630 - val_accuracy: 0.9501\n",
      "Epoch 2/5\n",
      "60000/60000 [==============================] - 75s 1ms/step - loss: 0.1457 - accuracy: 0.9561 - val_loss: 0.0935 - val_accuracy: 0.9708\n",
      "Epoch 3/5\n",
      "60000/60000 [==============================] - 73s 1ms/step - loss: 0.1019 - accuracy: 0.9689 - val_loss: 0.0802 - val_accuracy: 0.9746\n",
      "Epoch 4/5\n",
      "60000/60000 [==============================] - 74s 1ms/step - loss: 0.0759 - accuracy: 0.9773 - val_loss: 0.0639 - val_accuracy: 0.9792\n",
      "Epoch 5/5\n",
      "60000/60000 [==============================] - 2895s 48ms/step - loss: 0.0640 - accuracy: 0.9805 - val_loss: 0.0523 - val_accuracy: 0.9824\n"
     ]
    }
   ],
   "source": [
    "model=cnn_dense_model()\n",
    "cnn_history=model.fit(X_train, y_train, validation_data=(X_test, y_test), nb_epoch=5, batch_size=100)"
   ]
  },
  {
   "cell_type": "code",
   "execution_count": 34,
   "id": "53ab279f",
   "metadata": {},
   "outputs": [
    {
     "data": {
      "image/png": "[encoded data removed]",
      "text/plain": [
       "<Figure size 432x288 with 1 Axes>"
      ]
     },
     "metadata": {
      "needs_background": "light"
     },
     "output_type": "display_data"
    }
   ],
   "source": [
    "# Visualizing training and validation accuracies\n",
    "\n",
    "plt.plot(cnn_history.history[\"accuracy\"])\n",
    "plt.plot(cnn_history.history[\"val_accuracy\"])\n",
    "plt.title( \"MNIST Classification accuracy\")\n",
    "plt.ylabel(\"accuracy\")\n",
    "plt.xlabel(\"epoch\")\n",
    "plt.legend([\"train\" , \"test\"], loc=\"right\")\n",
    "plt.show()"
   ]
  },
  {
   "cell_type": "markdown",
   "id": "110dc4d9",
   "metadata": {},
   "source": [
    "### Make a prediction using a given image \n",
    "###### Now we leverage on the CNN-MIST trained model and make prediction on a new image. We extract and save an image from the MNIST dataset and make prediction with it. \n"
   ]
  },
  {
   "cell_type": "code",
   "execution_count": 38,
   "id": "6d259fcf",
   "metadata": {},
   "outputs": [
    {
     "name": "stdout",
     "output_type": "stream",
     "text": [
      "MNIST image number 3 predicted as:  [3]\n"
     ]
    }
   ],
   "source": [
    "# Extract and save 10th sample which is image number '3' from the MNIST dataset.\n",
    "# Convert a sample array to image\n",
    "img=X_train[10]*255         # take sample 10. We multiply by 255 to get initial pixel values \n",
    "img.resize(28,28,1)     # the array_to_image function takes 3 parameters, so resize image to Row,col,channel\n",
    "sample_10= array_to_img(img)    # save the image into current directory\n",
    "sample_10.save(\"10th_sample.png\")\n",
    "\n",
    "img = load_img(\"10th_sample.png\", color_mode = \"grayscale\", target_size=(28, 28)) # load image\n",
    "img = img_to_array(img)  # convert image to array\n",
    "img = img.reshape(1, 28, 28, 1).astype('float32')  # reshape image into a single sample with 1 channel\n",
    "img = img / 255    # Standardize image pixel to range [0-1]\n",
    "\n",
    "num_predict=model.predict_classes(img)\n",
    "print('MNIST image number 3 predicted as: ', num_predict)"
   ]
  }
 ],
 "metadata": {
  "kernelspec": {
   "display_name": "Python 3",
   "language": "python",
   "name": "python3"
  },
  "language_info": {
   "codemirror_mode": {
    "name": "ipython",
    "version": 3
   },
   "file_extension": ".py",
   "mimetype": "text/x-python",
   "name": "python",
   "nbconvert_exporter": "python",
   "pygments_lexer": "ipython3",
   "version": "3.6.8"
  }
 },
 "nbformat": 4,
 "nbformat_minor": 5
}
